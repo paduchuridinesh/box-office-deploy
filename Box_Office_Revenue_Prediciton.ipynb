{
 "cells": [
  {
   "cell_type": "markdown",
   "id": "d8e1d143-736d-40a3-bdb6-7cda8a358707",
   "metadata": {},
   "source": [
    "# __Project Title__: Box Office Revenue Prediction"
   ]
  },
  {
   "cell_type": "markdown",
   "id": "b6a257fc-722f-4162-8593-ffd001d5e33d",
   "metadata": {},
   "source": [
    "### __Problem Statement:__ The goal of this project is to predict the revenue of movies based on various factors such as genre, rating, production country, and more. By analyzing historical data, we aim to build a model that can estimate a movie's financial success."
   ]
  },
  {
   "cell_type": "code",
   "execution_count": 3,
   "id": "65a1d896-5e70-41cc-9f34-fc2d8e90fcad",
   "metadata": {},
   "outputs": [],
   "source": [
    "# Import necessary libraries\n",
    "import pandas as pd\n",
    "import matplotlib.pyplot as plt\n",
    "import seaborn as sns\n",
    "import numpy as np"
   ]
  },
  {
   "cell_type": "markdown",
   "id": "155f55ec-f99c-4836-a18a-dd5e6d6f75d0",
   "metadata": {},
   "source": [
    "__Loading the dataset__"
   ]
  },
  {
   "cell_type": "code",
   "execution_count": 5,
   "id": "4ec61b90-dd8e-4ea7-ad8b-951e93e1bc2d",
   "metadata": {},
   "outputs": [
    {
     "data": {
      "text/html": [
       "<div>\n",
       "<style scoped>\n",
       "    .dataframe tbody tr th:only-of-type {\n",
       "        vertical-align: middle;\n",
       "    }\n",
       "\n",
       "    .dataframe tbody tr th {\n",
       "        vertical-align: top;\n",
       "    }\n",
       "\n",
       "    .dataframe thead th {\n",
       "        text-align: right;\n",
       "    }\n",
       "</style>\n",
       "<table border=\"1\" class=\"dataframe\">\n",
       "  <thead>\n",
       "    <tr style=\"text-align: right;\">\n",
       "      <th></th>\n",
       "      <th>Rank</th>\n",
       "      <th>Release Group</th>\n",
       "      <th>$Worldwide</th>\n",
       "      <th>$Domestic</th>\n",
       "      <th>Domestic %</th>\n",
       "      <th>$Foreign</th>\n",
       "      <th>Foreign %</th>\n",
       "      <th>Year</th>\n",
       "      <th>Genres</th>\n",
       "      <th>Rating</th>\n",
       "      <th>Vote_Count</th>\n",
       "      <th>Original_Language</th>\n",
       "      <th>Production_Countries</th>\n",
       "    </tr>\n",
       "  </thead>\n",
       "  <tbody>\n",
       "    <tr>\n",
       "      <th>0</th>\n",
       "      <td>1</td>\n",
       "      <td>Mission: Impossible II</td>\n",
       "      <td>546388108.0</td>\n",
       "      <td>215409889.0</td>\n",
       "      <td>39.4</td>\n",
       "      <td>330978219.0</td>\n",
       "      <td>60.6</td>\n",
       "      <td>2000</td>\n",
       "      <td>Adventure, Action, Thriller</td>\n",
       "      <td>6.126/10</td>\n",
       "      <td>6741.0</td>\n",
       "      <td>en</td>\n",
       "      <td>United States of America</td>\n",
       "    </tr>\n",
       "    <tr>\n",
       "      <th>1</th>\n",
       "      <td>2</td>\n",
       "      <td>Gladiator</td>\n",
       "      <td>460583960.0</td>\n",
       "      <td>187705427.0</td>\n",
       "      <td>40.8</td>\n",
       "      <td>272878533.0</td>\n",
       "      <td>59.2</td>\n",
       "      <td>2000</td>\n",
       "      <td>Action, Drama, Adventure</td>\n",
       "      <td>8.217/10</td>\n",
       "      <td>19032.0</td>\n",
       "      <td>en</td>\n",
       "      <td>United Kingdom, United States of America</td>\n",
       "    </tr>\n",
       "    <tr>\n",
       "      <th>2</th>\n",
       "      <td>3</td>\n",
       "      <td>Cast Away</td>\n",
       "      <td>429632142.0</td>\n",
       "      <td>233632142.0</td>\n",
       "      <td>54.4</td>\n",
       "      <td>196000000.0</td>\n",
       "      <td>45.6</td>\n",
       "      <td>2000</td>\n",
       "      <td>Adventure, Drama</td>\n",
       "      <td>7.663/10</td>\n",
       "      <td>11403.0</td>\n",
       "      <td>en</td>\n",
       "      <td>United States of America</td>\n",
       "    </tr>\n",
       "    <tr>\n",
       "      <th>3</th>\n",
       "      <td>4</td>\n",
       "      <td>What Women Want</td>\n",
       "      <td>374111707.0</td>\n",
       "      <td>182811707.0</td>\n",
       "      <td>48.9</td>\n",
       "      <td>191300000.0</td>\n",
       "      <td>51.1</td>\n",
       "      <td>2000</td>\n",
       "      <td>Comedy, Romance</td>\n",
       "      <td>6.45/10</td>\n",
       "      <td>3944.0</td>\n",
       "      <td>en</td>\n",
       "      <td>United Kingdom, United States of America</td>\n",
       "    </tr>\n",
       "    <tr>\n",
       "      <th>4</th>\n",
       "      <td>5</td>\n",
       "      <td>Dinosaur</td>\n",
       "      <td>349822765.0</td>\n",
       "      <td>137748063.0</td>\n",
       "      <td>39.4</td>\n",
       "      <td>212074702.0</td>\n",
       "      <td>60.6</td>\n",
       "      <td>2000</td>\n",
       "      <td>Animation, Family, Adventure</td>\n",
       "      <td>6.544/10</td>\n",
       "      <td>2530.0</td>\n",
       "      <td>en</td>\n",
       "      <td>United States of America</td>\n",
       "    </tr>\n",
       "  </tbody>\n",
       "</table>\n",
       "</div>"
      ],
      "text/plain": [
       "   Rank           Release Group   $Worldwide    $Domestic  Domestic %  \\\n",
       "0     1  Mission: Impossible II  546388108.0  215409889.0        39.4   \n",
       "1     2               Gladiator  460583960.0  187705427.0        40.8   \n",
       "2     3               Cast Away  429632142.0  233632142.0        54.4   \n",
       "3     4         What Women Want  374111707.0  182811707.0        48.9   \n",
       "4     5                Dinosaur  349822765.0  137748063.0        39.4   \n",
       "\n",
       "      $Foreign  Foreign %  Year                        Genres    Rating  \\\n",
       "0  330978219.0       60.6  2000   Adventure, Action, Thriller  6.126/10   \n",
       "1  272878533.0       59.2  2000      Action, Drama, Adventure  8.217/10   \n",
       "2  196000000.0       45.6  2000              Adventure, Drama  7.663/10   \n",
       "3  191300000.0       51.1  2000               Comedy, Romance   6.45/10   \n",
       "4  212074702.0       60.6  2000  Animation, Family, Adventure  6.544/10   \n",
       "\n",
       "   Vote_Count Original_Language                      Production_Countries  \n",
       "0      6741.0                en                  United States of America  \n",
       "1     19032.0                en  United Kingdom, United States of America  \n",
       "2     11403.0                en                  United States of America  \n",
       "3      3944.0                en  United Kingdom, United States of America  \n",
       "4      2530.0                en                  United States of America  "
      ]
     },
     "execution_count": 5,
     "metadata": {},
     "output_type": "execute_result"
    }
   ],
   "source": [
    "df = pd.read_csv(\"box_office_data.csv\")\n",
    "df.head()"
   ]
  },
  {
   "cell_type": "markdown",
   "id": "2d7044f6-7988-44b1-b0d7-afd86ad34b1b",
   "metadata": {},
   "source": [
    "__Dataset Information__"
   ]
  },
  {
   "cell_type": "code",
   "execution_count": 7,
   "id": "eed7d9e4-06fb-4033-9ec9-67c10ffcefdb",
   "metadata": {},
   "outputs": [
    {
     "name": "stdout",
     "output_type": "stream",
     "text": [
      "<class 'pandas.core.frame.DataFrame'>\n",
      "RangeIndex: 5000 entries, 0 to 4999\n",
      "Data columns (total 13 columns):\n",
      " #   Column                Non-Null Count  Dtype  \n",
      "---  ------                --------------  -----  \n",
      " 0   Rank                  5000 non-null   int64  \n",
      " 1   Release Group         5000 non-null   object \n",
      " 2   $Worldwide            5000 non-null   float64\n",
      " 3   $Domestic             5000 non-null   float64\n",
      " 4   Domestic %            5000 non-null   float64\n",
      " 5   $Foreign              5000 non-null   float64\n",
      " 6   Foreign %             5000 non-null   float64\n",
      " 7   Year                  5000 non-null   int64  \n",
      " 8   Genres                4822 non-null   object \n",
      " 9   Rating                4830 non-null   object \n",
      " 10  Vote_Count            4830 non-null   float64\n",
      " 11  Original_Language     4830 non-null   object \n",
      " 12  Production_Countries  4800 non-null   object \n",
      "dtypes: float64(6), int64(2), object(5)\n",
      "memory usage: 507.9+ KB\n"
     ]
    }
   ],
   "source": [
    "df.info()"
   ]
  },
  {
   "cell_type": "code",
   "execution_count": 8,
   "id": "fe13c011-c860-48af-b29d-efac7e5e52b4",
   "metadata": {},
   "outputs": [
    {
     "data": {
      "text/plain": [
       "(5000, 13)"
      ]
     },
     "execution_count": 8,
     "metadata": {},
     "output_type": "execute_result"
    }
   ],
   "source": [
    "df.shape"
   ]
  },
  {
   "cell_type": "code",
   "execution_count": 9,
   "id": "3a0ea59c-6c8e-4a19-ad88-a9668bbb5799",
   "metadata": {},
   "outputs": [
    {
     "data": {
      "text/plain": [
       "Rank                      0\n",
       "Release Group             0\n",
       "$Worldwide                0\n",
       "$Domestic                 0\n",
       "Domestic %                0\n",
       "$Foreign                  0\n",
       "Foreign %                 0\n",
       "Year                      0\n",
       "Genres                  178\n",
       "Rating                  170\n",
       "Vote_Count              170\n",
       "Original_Language       170\n",
       "Production_Countries    200\n",
       "dtype: int64"
      ]
     },
     "execution_count": 9,
     "metadata": {},
     "output_type": "execute_result"
    }
   ],
   "source": [
    "df.isnull().sum()"
   ]
  },
  {
   "cell_type": "markdown",
   "id": "63f625e6-db08-4dbd-bfde-4fa431bafd5a",
   "metadata": {},
   "source": [
    "### Data Cleaning"
   ]
  },
  {
   "cell_type": "markdown",
   "id": "46c59478-b69d-4501-8127-94ea22f52151",
   "metadata": {},
   "source": [
    "***Handling Missing Values***"
   ]
  },
  {
   "cell_type": "code",
   "execution_count": 12,
   "id": "11d00a9b-03a5-4101-acbd-1687ad184971",
   "metadata": {},
   "outputs": [
    {
     "name": "stderr",
     "output_type": "stream",
     "text": [
      "C:\\Users\\user\\AppData\\Local\\Temp\\ipykernel_22976\\4019816636.py:1: FutureWarning: A value is trying to be set on a copy of a DataFrame or Series through chained assignment using an inplace method.\n",
      "The behavior will change in pandas 3.0. This inplace method will never work because the intermediate object on which we are setting values always behaves as a copy.\n",
      "\n",
      "For example, when doing 'df[col].method(value, inplace=True)', try using 'df.method({col: value}, inplace=True)' or df[col] = df[col].method(value) instead, to perform the operation inplace on the original object.\n",
      "\n",
      "\n",
      "  df[\"Genres\"].fillna(\"Unknown\", inplace=True)\n",
      "C:\\Users\\user\\AppData\\Local\\Temp\\ipykernel_22976\\4019816636.py:2: FutureWarning: A value is trying to be set on a copy of a DataFrame or Series through chained assignment using an inplace method.\n",
      "The behavior will change in pandas 3.0. This inplace method will never work because the intermediate object on which we are setting values always behaves as a copy.\n",
      "\n",
      "For example, when doing 'df[col].method(value, inplace=True)', try using 'df.method({col: value}, inplace=True)' or df[col] = df[col].method(value) instead, to perform the operation inplace on the original object.\n",
      "\n",
      "\n",
      "  df[\"Rating\"].fillna(\"Unrated\", inplace=True)\n",
      "C:\\Users\\user\\AppData\\Local\\Temp\\ipykernel_22976\\4019816636.py:3: FutureWarning: A value is trying to be set on a copy of a DataFrame or Series through chained assignment using an inplace method.\n",
      "The behavior will change in pandas 3.0. This inplace method will never work because the intermediate object on which we are setting values always behaves as a copy.\n",
      "\n",
      "For example, when doing 'df[col].method(value, inplace=True)', try using 'df.method({col: value}, inplace=True)' or df[col] = df[col].method(value) instead, to perform the operation inplace on the original object.\n",
      "\n",
      "\n",
      "  df[\"Vote_Count\"].fillna(0, inplace=True)\n",
      "C:\\Users\\user\\AppData\\Local\\Temp\\ipykernel_22976\\4019816636.py:4: FutureWarning: A value is trying to be set on a copy of a DataFrame or Series through chained assignment using an inplace method.\n",
      "The behavior will change in pandas 3.0. This inplace method will never work because the intermediate object on which we are setting values always behaves as a copy.\n",
      "\n",
      "For example, when doing 'df[col].method(value, inplace=True)', try using 'df.method({col: value}, inplace=True)' or df[col] = df[col].method(value) instead, to perform the operation inplace on the original object.\n",
      "\n",
      "\n",
      "  df[\"Original_Language\"].fillna(\"Unknown\", inplace=True)\n",
      "C:\\Users\\user\\AppData\\Local\\Temp\\ipykernel_22976\\4019816636.py:5: FutureWarning: A value is trying to be set on a copy of a DataFrame or Series through chained assignment using an inplace method.\n",
      "The behavior will change in pandas 3.0. This inplace method will never work because the intermediate object on which we are setting values always behaves as a copy.\n",
      "\n",
      "For example, when doing 'df[col].method(value, inplace=True)', try using 'df.method({col: value}, inplace=True)' or df[col] = df[col].method(value) instead, to perform the operation inplace on the original object.\n",
      "\n",
      "\n",
      "  df[\"Production_Countries\"].fillna(\"Unknown\", inplace=True)\n"
     ]
    }
   ],
   "source": [
    "df[\"Genres\"].fillna(\"Unknown\", inplace=True)\n",
    "df[\"Rating\"].fillna(\"Unrated\", inplace=True)\n",
    "df[\"Vote_Count\"].fillna(0, inplace=True)\n",
    "df[\"Original_Language\"].fillna(\"Unknown\", inplace=True)\n",
    "df[\"Production_Countries\"].fillna(\"Unknown\", inplace=True)"
   ]
  },
  {
   "cell_type": "code",
   "execution_count": 13,
   "id": "41d1b376-fa84-41af-87bc-f703d07dacca",
   "metadata": {},
   "outputs": [
    {
     "data": {
      "text/plain": [
       "Rank                    0\n",
       "Release Group           0\n",
       "$Worldwide              0\n",
       "$Domestic               0\n",
       "Domestic %              0\n",
       "$Foreign                0\n",
       "Foreign %               0\n",
       "Year                    0\n",
       "Genres                  0\n",
       "Rating                  0\n",
       "Vote_Count              0\n",
       "Original_Language       0\n",
       "Production_Countries    0\n",
       "dtype: int64"
      ]
     },
     "execution_count": 13,
     "metadata": {},
     "output_type": "execute_result"
    }
   ],
   "source": [
    "df.isnull().sum()"
   ]
  },
  {
   "cell_type": "markdown",
   "id": "5e92e195-219a-47ff-b1c2-20a858b296af",
   "metadata": {},
   "source": [
    "***Fix Datatypes***"
   ]
  },
  {
   "cell_type": "code",
   "execution_count": 15,
   "id": "0d6d2455-dc02-427b-9245-1a5f06d5932c",
   "metadata": {},
   "outputs": [
    {
     "data": {
      "text/plain": [
       "Rank                      int64\n",
       "Release Group            object\n",
       "$Worldwide              float64\n",
       "$Domestic               float64\n",
       "Domestic %              float64\n",
       "$Foreign                float64\n",
       "Foreign %               float64\n",
       "Year                      int64\n",
       "Genres                   object\n",
       "Rating                   object\n",
       "Vote_Count              float64\n",
       "Original_Language        object\n",
       "Production_Countries     object\n",
       "dtype: object"
      ]
     },
     "execution_count": 15,
     "metadata": {},
     "output_type": "execute_result"
    }
   ],
   "source": [
    "df.dtypes"
   ]
  },
  {
   "cell_type": "markdown",
   "id": "e47983ee-def4-4b02-9faa-e9e8ac284545",
   "metadata": {},
   "source": [
    "**Rename Columns**"
   ]
  },
  {
   "cell_type": "code",
   "execution_count": 17,
   "id": "8028b820-8c89-4ddb-9062-91ae15407861",
   "metadata": {},
   "outputs": [],
   "source": [
    "df.rename(columns={\n",
    "    \"$Worldwide\": \"Worldwide_Gross\",\n",
    "    \"$Domestic\": \"Domestic_Gross\",\n",
    "    \"Domestic %\": \"Domestic_Percentage\",\n",
    "    \"$Foreign\": \"Foreign_Gross\",\n",
    "    \"Foreign %\": \"Foreign_Percentage\"\n",
    "}, inplace=True)"
   ]
  },
  {
   "cell_type": "markdown",
   "id": "d03d8084-5a21-4ef8-b06f-fdc76a0f606a",
   "metadata": {},
   "source": [
    "__Feature Engineering__"
   ]
  },
  {
   "cell_type": "markdown",
   "id": "80a9d93c-f2ad-4864-afb9-63585eab181d",
   "metadata": {},
   "source": [
    "Changed the data types of required features"
   ]
  },
  {
   "cell_type": "code",
   "execution_count": 20,
   "id": "f2cc1cd5-3892-4811-875a-189fd286a112",
   "metadata": {},
   "outputs": [],
   "source": [
    "df[\"Rating\"] = df[\"Rating\"].str.extract(r'([\\d.]+)').astype(float)\n",
    "df[\"Vote_Count\"] = df[\"Vote_Count\"].astype(int)"
   ]
  },
  {
   "cell_type": "markdown",
   "id": "3a0d5079-2849-4f52-b9af-0e9cc5f49da2",
   "metadata": {},
   "source": [
    "Extract the primary genre"
   ]
  },
  {
   "cell_type": "code",
   "execution_count": 22,
   "id": "53eca866-e0ee-4a90-97e5-35f482aeee90",
   "metadata": {},
   "outputs": [],
   "source": [
    "df['Primary_Genre'] = df['Genres'].str.split(',').str[0]"
   ]
  },
  {
   "cell_type": "markdown",
   "id": "b92536cb-be82-49cd-825c-5d2c2f2c0730",
   "metadata": {},
   "source": [
    "__Feature Encoding__"
   ]
  },
  {
   "cell_type": "code",
   "execution_count": 24,
   "id": "cad1d75f-da1c-418f-8213-a6d7fb193006",
   "metadata": {},
   "outputs": [],
   "source": [
    "df['Production_Countries'] = df['Production_Countries'].map(df['Production_Countries'].value_counts())"
   ]
  },
  {
   "cell_type": "code",
   "execution_count": 25,
   "id": "2223021b-df8f-4e34-bd4d-95078c80e66c",
   "metadata": {},
   "outputs": [
    {
     "data": {
      "text/html": [
       "<div>\n",
       "<style scoped>\n",
       "    .dataframe tbody tr th:only-of-type {\n",
       "        vertical-align: middle;\n",
       "    }\n",
       "\n",
       "    .dataframe tbody tr th {\n",
       "        vertical-align: top;\n",
       "    }\n",
       "\n",
       "    .dataframe thead th {\n",
       "        text-align: right;\n",
       "    }\n",
       "</style>\n",
       "<table border=\"1\" class=\"dataframe\">\n",
       "  <thead>\n",
       "    <tr style=\"text-align: right;\">\n",
       "      <th></th>\n",
       "      <th>Rank</th>\n",
       "      <th>Release Group</th>\n",
       "      <th>Worldwide_Gross</th>\n",
       "      <th>Domestic_Gross</th>\n",
       "      <th>Domestic_Percentage</th>\n",
       "      <th>Foreign_Gross</th>\n",
       "      <th>Foreign_Percentage</th>\n",
       "      <th>Year</th>\n",
       "      <th>Genres</th>\n",
       "      <th>Rating</th>\n",
       "      <th>Vote_Count</th>\n",
       "      <th>Original_Language</th>\n",
       "      <th>Production_Countries</th>\n",
       "      <th>Primary_Genre</th>\n",
       "    </tr>\n",
       "  </thead>\n",
       "  <tbody>\n",
       "    <tr>\n",
       "      <th>0</th>\n",
       "      <td>1</td>\n",
       "      <td>Mission: Impossible II</td>\n",
       "      <td>546388108.0</td>\n",
       "      <td>215409889.0</td>\n",
       "      <td>39.4</td>\n",
       "      <td>330978219.0</td>\n",
       "      <td>60.6</td>\n",
       "      <td>2000</td>\n",
       "      <td>Adventure, Action, Thriller</td>\n",
       "      <td>6.126</td>\n",
       "      <td>6741</td>\n",
       "      <td>en</td>\n",
       "      <td>1964</td>\n",
       "      <td>Adventure</td>\n",
       "    </tr>\n",
       "    <tr>\n",
       "      <th>1</th>\n",
       "      <td>2</td>\n",
       "      <td>Gladiator</td>\n",
       "      <td>460583960.0</td>\n",
       "      <td>187705427.0</td>\n",
       "      <td>40.8</td>\n",
       "      <td>272878533.0</td>\n",
       "      <td>59.2</td>\n",
       "      <td>2000</td>\n",
       "      <td>Action, Drama, Adventure</td>\n",
       "      <td>8.217</td>\n",
       "      <td>19032</td>\n",
       "      <td>en</td>\n",
       "      <td>217</td>\n",
       "      <td>Action</td>\n",
       "    </tr>\n",
       "    <tr>\n",
       "      <th>2</th>\n",
       "      <td>3</td>\n",
       "      <td>Cast Away</td>\n",
       "      <td>429632142.0</td>\n",
       "      <td>233632142.0</td>\n",
       "      <td>54.4</td>\n",
       "      <td>196000000.0</td>\n",
       "      <td>45.6</td>\n",
       "      <td>2000</td>\n",
       "      <td>Adventure, Drama</td>\n",
       "      <td>7.663</td>\n",
       "      <td>11403</td>\n",
       "      <td>en</td>\n",
       "      <td>1964</td>\n",
       "      <td>Adventure</td>\n",
       "    </tr>\n",
       "    <tr>\n",
       "      <th>3</th>\n",
       "      <td>4</td>\n",
       "      <td>What Women Want</td>\n",
       "      <td>374111707.0</td>\n",
       "      <td>182811707.0</td>\n",
       "      <td>48.9</td>\n",
       "      <td>191300000.0</td>\n",
       "      <td>51.1</td>\n",
       "      <td>2000</td>\n",
       "      <td>Comedy, Romance</td>\n",
       "      <td>6.450</td>\n",
       "      <td>3944</td>\n",
       "      <td>en</td>\n",
       "      <td>217</td>\n",
       "      <td>Comedy</td>\n",
       "    </tr>\n",
       "    <tr>\n",
       "      <th>4</th>\n",
       "      <td>5</td>\n",
       "      <td>Dinosaur</td>\n",
       "      <td>349822765.0</td>\n",
       "      <td>137748063.0</td>\n",
       "      <td>39.4</td>\n",
       "      <td>212074702.0</td>\n",
       "      <td>60.6</td>\n",
       "      <td>2000</td>\n",
       "      <td>Animation, Family, Adventure</td>\n",
       "      <td>6.544</td>\n",
       "      <td>2530</td>\n",
       "      <td>en</td>\n",
       "      <td>1964</td>\n",
       "      <td>Animation</td>\n",
       "    </tr>\n",
       "    <tr>\n",
       "      <th>5</th>\n",
       "      <td>6</td>\n",
       "      <td>How the Grinch Stole Christmas</td>\n",
       "      <td>345842198.0</td>\n",
       "      <td>260745620.0</td>\n",
       "      <td>75.4</td>\n",
       "      <td>85096578.0</td>\n",
       "      <td>24.6</td>\n",
       "      <td>2000</td>\n",
       "      <td>Family, Comedy, Fantasy</td>\n",
       "      <td>6.800</td>\n",
       "      <td>7591</td>\n",
       "      <td>en</td>\n",
       "      <td>89</td>\n",
       "      <td>Family</td>\n",
       "    </tr>\n",
       "    <tr>\n",
       "      <th>6</th>\n",
       "      <td>7</td>\n",
       "      <td>Meet the Parents</td>\n",
       "      <td>330444045.0</td>\n",
       "      <td>166244045.0</td>\n",
       "      <td>50.3</td>\n",
       "      <td>164200000.0</td>\n",
       "      <td>49.7</td>\n",
       "      <td>2000</td>\n",
       "      <td>Comedy, Romance</td>\n",
       "      <td>6.675</td>\n",
       "      <td>5916</td>\n",
       "      <td>en</td>\n",
       "      <td>1964</td>\n",
       "      <td>Comedy</td>\n",
       "    </tr>\n",
       "    <tr>\n",
       "      <th>7</th>\n",
       "      <td>8</td>\n",
       "      <td>The Perfect Storm</td>\n",
       "      <td>328718434.0</td>\n",
       "      <td>182618434.0</td>\n",
       "      <td>55.6</td>\n",
       "      <td>146100000.0</td>\n",
       "      <td>44.4</td>\n",
       "      <td>2000</td>\n",
       "      <td>Action, Adventure, Drama, Thriller</td>\n",
       "      <td>6.466</td>\n",
       "      <td>2312</td>\n",
       "      <td>en</td>\n",
       "      <td>1964</td>\n",
       "      <td>Action</td>\n",
       "    </tr>\n",
       "    <tr>\n",
       "      <th>8</th>\n",
       "      <td>9</td>\n",
       "      <td>X-Men</td>\n",
       "      <td>296339528.0</td>\n",
       "      <td>157299718.0</td>\n",
       "      <td>53.1</td>\n",
       "      <td>139039810.0</td>\n",
       "      <td>46.9</td>\n",
       "      <td>2000</td>\n",
       "      <td>Adventure, Action, Science Fiction</td>\n",
       "      <td>7.005</td>\n",
       "      <td>11355</td>\n",
       "      <td>en</td>\n",
       "      <td>1964</td>\n",
       "      <td>Adventure</td>\n",
       "    </tr>\n",
       "    <tr>\n",
       "      <th>9</th>\n",
       "      <td>10</td>\n",
       "      <td>What Lies Beneath</td>\n",
       "      <td>291420351.0</td>\n",
       "      <td>155464351.0</td>\n",
       "      <td>53.3</td>\n",
       "      <td>135956000.0</td>\n",
       "      <td>46.7</td>\n",
       "      <td>2000</td>\n",
       "      <td>Drama, Horror, Mystery, Thriller</td>\n",
       "      <td>6.416</td>\n",
       "      <td>1818</td>\n",
       "      <td>en</td>\n",
       "      <td>1964</td>\n",
       "      <td>Drama</td>\n",
       "    </tr>\n",
       "  </tbody>\n",
       "</table>\n",
       "</div>"
      ],
      "text/plain": [
       "   Rank                   Release Group  Worldwide_Gross  Domestic_Gross  \\\n",
       "0     1          Mission: Impossible II      546388108.0     215409889.0   \n",
       "1     2                       Gladiator      460583960.0     187705427.0   \n",
       "2     3                       Cast Away      429632142.0     233632142.0   \n",
       "3     4                 What Women Want      374111707.0     182811707.0   \n",
       "4     5                        Dinosaur      349822765.0     137748063.0   \n",
       "5     6  How the Grinch Stole Christmas      345842198.0     260745620.0   \n",
       "6     7                Meet the Parents      330444045.0     166244045.0   \n",
       "7     8               The Perfect Storm      328718434.0     182618434.0   \n",
       "8     9                           X-Men      296339528.0     157299718.0   \n",
       "9    10               What Lies Beneath      291420351.0     155464351.0   \n",
       "\n",
       "   Domestic_Percentage  Foreign_Gross  Foreign_Percentage  Year  \\\n",
       "0                 39.4    330978219.0                60.6  2000   \n",
       "1                 40.8    272878533.0                59.2  2000   \n",
       "2                 54.4    196000000.0                45.6  2000   \n",
       "3                 48.9    191300000.0                51.1  2000   \n",
       "4                 39.4    212074702.0                60.6  2000   \n",
       "5                 75.4     85096578.0                24.6  2000   \n",
       "6                 50.3    164200000.0                49.7  2000   \n",
       "7                 55.6    146100000.0                44.4  2000   \n",
       "8                 53.1    139039810.0                46.9  2000   \n",
       "9                 53.3    135956000.0                46.7  2000   \n",
       "\n",
       "                               Genres  Rating  Vote_Count Original_Language  \\\n",
       "0         Adventure, Action, Thriller   6.126        6741                en   \n",
       "1            Action, Drama, Adventure   8.217       19032                en   \n",
       "2                    Adventure, Drama   7.663       11403                en   \n",
       "3                     Comedy, Romance   6.450        3944                en   \n",
       "4        Animation, Family, Adventure   6.544        2530                en   \n",
       "5             Family, Comedy, Fantasy   6.800        7591                en   \n",
       "6                     Comedy, Romance   6.675        5916                en   \n",
       "7  Action, Adventure, Drama, Thriller   6.466        2312                en   \n",
       "8  Adventure, Action, Science Fiction   7.005       11355                en   \n",
       "9    Drama, Horror, Mystery, Thriller   6.416        1818                en   \n",
       "\n",
       "   Production_Countries Primary_Genre  \n",
       "0                  1964     Adventure  \n",
       "1                   217        Action  \n",
       "2                  1964     Adventure  \n",
       "3                   217        Comedy  \n",
       "4                  1964     Animation  \n",
       "5                    89        Family  \n",
       "6                  1964        Comedy  \n",
       "7                  1964        Action  \n",
       "8                  1964     Adventure  \n",
       "9                  1964         Drama  "
      ]
     },
     "execution_count": 25,
     "metadata": {},
     "output_type": "execute_result"
    }
   ],
   "source": [
    "df.head(10)"
   ]
  },
  {
   "cell_type": "code",
   "execution_count": 26,
   "id": "c51c15f2-3b41-4d60-bb52-ecf5305e83fc",
   "metadata": {},
   "outputs": [],
   "source": [
    "genre_avg_revenue = df.groupby('Primary_Genre')['Worldwide_Gross'].mean().to_dict()\n",
    "df['Primary_Genre'] = df['Primary_Genre'].map(genre_avg_revenue)"
   ]
  },
  {
   "cell_type": "code",
   "execution_count": 27,
   "id": "a6132a25-c444-4afc-8b0d-a4a5acaa1ca4",
   "metadata": {},
   "outputs": [],
   "source": [
    "df['Original_Language'] = df['Original_Language'].map(df['Original_Language'].value_counts())"
   ]
  },
  {
   "cell_type": "code",
   "execution_count": 89,
   "id": "8cdc5c18-cd68-4cec-8de1-869abeb5853d",
   "metadata": {},
   "outputs": [
    {
     "data": {
      "text/html": [
       "<div>\n",
       "<style scoped>\n",
       "    .dataframe tbody tr th:only-of-type {\n",
       "        vertical-align: middle;\n",
       "    }\n",
       "\n",
       "    .dataframe tbody tr th {\n",
       "        vertical-align: top;\n",
       "    }\n",
       "\n",
       "    .dataframe thead th {\n",
       "        text-align: right;\n",
       "    }\n",
       "</style>\n",
       "<table border=\"1\" class=\"dataframe\">\n",
       "  <thead>\n",
       "    <tr style=\"text-align: right;\">\n",
       "      <th></th>\n",
       "      <th>Worldwide_Gross</th>\n",
       "      <th>Domestic_Gross</th>\n",
       "      <th>Domestic_Percentage</th>\n",
       "      <th>Foreign_Gross</th>\n",
       "      <th>Foreign_Percentage</th>\n",
       "      <th>Year</th>\n",
       "      <th>Rating</th>\n",
       "      <th>Vote_Count</th>\n",
       "      <th>Original_Language</th>\n",
       "      <th>Production_Countries</th>\n",
       "      <th>Primary_Genre</th>\n",
       "    </tr>\n",
       "  </thead>\n",
       "  <tbody>\n",
       "    <tr>\n",
       "      <th>0</th>\n",
       "      <td>476071180.0</td>\n",
       "      <td>181030624.0</td>\n",
       "      <td>39.4</td>\n",
       "      <td>319400000.0</td>\n",
       "      <td>60.6</td>\n",
       "      <td>2000</td>\n",
       "      <td>6.126</td>\n",
       "      <td>6741</td>\n",
       "      <td>3271</td>\n",
       "      <td>1964</td>\n",
       "      <td>2.843795e+08</td>\n",
       "    </tr>\n",
       "    <tr>\n",
       "      <th>1</th>\n",
       "      <td>460583960.0</td>\n",
       "      <td>181030624.0</td>\n",
       "      <td>40.8</td>\n",
       "      <td>272878533.0</td>\n",
       "      <td>59.2</td>\n",
       "      <td>2000</td>\n",
       "      <td>8.119</td>\n",
       "      <td>10235</td>\n",
       "      <td>3271</td>\n",
       "      <td>217</td>\n",
       "      <td>1.804786e+08</td>\n",
       "    </tr>\n",
       "    <tr>\n",
       "      <th>2</th>\n",
       "      <td>429632142.0</td>\n",
       "      <td>181030624.0</td>\n",
       "      <td>54.4</td>\n",
       "      <td>196000000.0</td>\n",
       "      <td>45.6</td>\n",
       "      <td>2000</td>\n",
       "      <td>7.663</td>\n",
       "      <td>10235</td>\n",
       "      <td>3271</td>\n",
       "      <td>1964</td>\n",
       "      <td>2.843795e+08</td>\n",
       "    </tr>\n",
       "    <tr>\n",
       "      <th>3</th>\n",
       "      <td>374111707.0</td>\n",
       "      <td>181030624.0</td>\n",
       "      <td>48.9</td>\n",
       "      <td>191300000.0</td>\n",
       "      <td>51.1</td>\n",
       "      <td>2000</td>\n",
       "      <td>6.450</td>\n",
       "      <td>3944</td>\n",
       "      <td>3271</td>\n",
       "      <td>217</td>\n",
       "      <td>7.518238e+07</td>\n",
       "    </tr>\n",
       "    <tr>\n",
       "      <th>4</th>\n",
       "      <td>349822765.0</td>\n",
       "      <td>137748063.0</td>\n",
       "      <td>39.4</td>\n",
       "      <td>212074702.0</td>\n",
       "      <td>60.6</td>\n",
       "      <td>2000</td>\n",
       "      <td>6.544</td>\n",
       "      <td>2530</td>\n",
       "      <td>3271</td>\n",
       "      <td>1964</td>\n",
       "      <td>1.770618e+08</td>\n",
       "    </tr>\n",
       "  </tbody>\n",
       "</table>\n",
       "</div>"
      ],
      "text/plain": [
       "   Worldwide_Gross  Domestic_Gross  Domestic_Percentage  Foreign_Gross  \\\n",
       "0      476071180.0     181030624.0                 39.4    319400000.0   \n",
       "1      460583960.0     181030624.0                 40.8    272878533.0   \n",
       "2      429632142.0     181030624.0                 54.4    196000000.0   \n",
       "3      374111707.0     181030624.0                 48.9    191300000.0   \n",
       "4      349822765.0     137748063.0                 39.4    212074702.0   \n",
       "\n",
       "   Foreign_Percentage  Year  Rating  Vote_Count  Original_Language  \\\n",
       "0                60.6  2000   6.126        6741               3271   \n",
       "1                59.2  2000   8.119       10235               3271   \n",
       "2                45.6  2000   7.663       10235               3271   \n",
       "3                51.1  2000   6.450        3944               3271   \n",
       "4                60.6  2000   6.544        2530               3271   \n",
       "\n",
       "   Production_Countries  Primary_Genre  \n",
       "0                  1964   2.843795e+08  \n",
       "1                   217   1.804786e+08  \n",
       "2                  1964   2.843795e+08  \n",
       "3                   217   7.518238e+07  \n",
       "4                  1964   1.770618e+08  "
      ]
     },
     "execution_count": 89,
     "metadata": {},
     "output_type": "execute_result"
    }
   ],
   "source": [
    "df.head()"
   ]
  },
  {
   "cell_type": "code",
   "execution_count": 28,
   "id": "8b12a044-a4fb-4a9c-992f-d450370f1182",
   "metadata": {},
   "outputs": [
    {
     "data": {
      "text/plain": [
       "Rank                      int64\n",
       "Release Group            object\n",
       "Worldwide_Gross         float64\n",
       "Domestic_Gross          float64\n",
       "Domestic_Percentage     float64\n",
       "Foreign_Gross           float64\n",
       "Foreign_Percentage      float64\n",
       "Year                      int64\n",
       "Genres                   object\n",
       "Rating                  float64\n",
       "Vote_Count                int32\n",
       "Original_Language         int64\n",
       "Production_Countries      int64\n",
       "Primary_Genre           float64\n",
       "dtype: object"
      ]
     },
     "execution_count": 28,
     "metadata": {},
     "output_type": "execute_result"
    }
   ],
   "source": [
    "df.dtypes"
   ]
  },
  {
   "cell_type": "code",
   "execution_count": 29,
   "id": "6bbcc2b8-9390-4436-8baf-7bdf8a6aae9d",
   "metadata": {},
   "outputs": [
    {
     "name": "stdout",
     "output_type": "stream",
     "text": [
      "       Worldwide_Gross  Domestic_Gross  Foreign_Gross       Rating  \\\n",
      "count     5.000000e+03    5.000000e+03   5.000000e+03  4830.000000   \n",
      "mean      1.192137e+08    4.472523e+07   7.448809e+07     6.510418   \n",
      "std       2.005243e+08    7.727026e+07   1.334932e+08     0.951805   \n",
      "min       1.666028e+06    0.000000e+00   0.000000e+00     0.000000   \n",
      "25%       2.466220e+07    9.275150e+04   1.371034e+07     6.011000   \n",
      "50%       4.844658e+07    1.798421e+07   3.019444e+07     6.600000   \n",
      "75%       1.197588e+08    5.386847e+07   7.211578e+07     7.107750   \n",
      "max       2.799439e+09    9.366622e+08   1.993811e+09     9.700000   \n",
      "\n",
      "         Vote_Count  \n",
      "count   5000.000000  \n",
      "mean    2445.512000  \n",
      "std     3905.638983  \n",
      "min        0.000000  \n",
      "25%      165.000000  \n",
      "50%      957.000000  \n",
      "75%     2939.000000  \n",
      "max    36753.000000  \n"
     ]
    }
   ],
   "source": [
    "numeric_cols=['Worldwide_Gross', 'Domestic_Gross', 'Foreign_Gross', 'Rating', 'Vote_Count']\n",
    "print(df[numeric_cols].describe())\n"
   ]
  },
  {
   "cell_type": "code",
   "execution_count": 30,
   "id": "043a0d67-ba5a-4347-81b0-9d2ad104fcd7",
   "metadata": {},
   "outputs": [],
   "source": [
    "from scipy.stats.mstats import winsorize\n",
    "\n",
    "for col in numeric_cols:\n",
    "    df[col] = winsorize(df[col], limits=[0.05, 0.05])  # Caps top & bottom 5% values"
   ]
  },
  {
   "cell_type": "markdown",
   "id": "0d7d37b5-4f24-4a13-b29d-081272ffe605",
   "metadata": {},
   "source": [
    "__Shape after data cleaning__"
   ]
  },
  {
   "cell_type": "code",
   "execution_count": 32,
   "id": "de2eb4ee-2ac7-47f6-82ae-e770b8c83862",
   "metadata": {},
   "outputs": [
    {
     "data": {
      "text/plain": [
       "(5000, 14)"
      ]
     },
     "execution_count": 32,
     "metadata": {},
     "output_type": "execute_result"
    }
   ],
   "source": [
    "df.shape"
   ]
  },
  {
   "cell_type": "markdown",
   "id": "838e268d-8bd1-4f5b-a9be-eb93f5e8b7cb",
   "metadata": {},
   "source": [
    "### Data Visualization"
   ]
  },
  {
   "cell_type": "markdown",
   "id": "1f69c7f4-569b-41dc-b744-400383cb0655",
   "metadata": {},
   "source": [
    "__Pie Chart: Domestic vs Foriegn Revenue Distribution__"
   ]
  },
  {
   "cell_type": "code",
   "execution_count": 35,
   "id": "a34651cc-1489-4da6-ad8a-28052c2350be",
   "metadata": {},
   "outputs": [
    {
     "data": {
      "image/png": "[encoded data removed]",
      "text/plain": [
       "<Figure size 800x800 with 1 Axes>"
      ]
     },
     "metadata": {},
     "output_type": "display_data"
    }
   ],
   "source": [
    "total_domestic = df['Domestic_Gross'].sum()\n",
    "total_foreign = df['Foreign_Gross'].sum()\n",
    "labels = ['Domestic Revenue', 'Foreign Revenue']\n",
    "sizes = [total_domestic, total_foreign]\n",
    "plt.figure(figsize=(8, 8))\n",
    "plt.pie(sizes, labels=labels, autopct='%1.1f%%', startangle=140, colors=['skyblue', 'orange'])\n",
    "plt.title('Domestic vs Foreign Revenue Distribution')\n",
    "plt.show()"
   ]
  },
  {
   "cell_type": "markdown",
   "id": "e035ca0f-c995-4583-bce0-dcd067024bde",
   "metadata": {},
   "source": [
    "__Bar Plot: Number of Movies by Genre__"
   ]
  },
  {
   "cell_type": "code",
   "execution_count": 37,
   "id": "a6f91931-d8d9-4b34-9cbf-e124679e953b",
   "metadata": {},
   "outputs": [
    {
     "name": "stderr",
     "output_type": "stream",
     "text": [
      "C:\\Users\\user\\AppData\\Local\\Temp\\ipykernel_22976\\1783020094.py:4: FutureWarning: \n",
      "\n",
      "Passing `palette` without assigning `hue` is deprecated and will be removed in v0.14.0. Assign the `y` variable to `hue` and set `legend=False` for the same effect.\n",
      "\n",
      "  sns.barplot(x=genre_counts.values, y=genre_counts.index, palette='coolwarm')\n"
     ]
    },
    {
     "data": {
      "image/png": "[encoded data removed]",
      "text/plain": [
       "<Figure size 1200x600 with 1 Axes>"
      ]
     },
     "metadata": {},
     "output_type": "display_data"
    }
   ],
   "source": [
    "genres_expanded = df['Genres'].str.get_dummies(sep=', ')\n",
    "genre_counts = genres_expanded.sum().sort_values(ascending=False)\n",
    "plt.figure(figsize=(12, 6))\n",
    "sns.barplot(x=genre_counts.values, y=genre_counts.index, palette='coolwarm')\n",
    "plt.title('Number of Movies by Genre')\n",
    "plt.xlabel('Number of Movies')\n",
    "plt.ylabel('Genres')\n",
    "plt.show()"
   ]
  },
  {
   "cell_type": "markdown",
   "id": "93163a57-3e96-4424-9227-95d76f31e5cf",
   "metadata": {},
   "source": [
    "__Feature Selection__"
   ]
  },
  {
   "cell_type": "markdown",
   "id": "87fe9b5f-e275-40ff-b116-aa1ddfc006a6",
   "metadata": {},
   "source": [
    "Droped the Redundant Columms"
   ]
  },
  {
   "cell_type": "code",
   "execution_count": 40,
   "id": "4afa5a5e-34ba-4230-a4e8-66550c86953d",
   "metadata": {},
   "outputs": [
    {
     "name": "stdout",
     "output_type": "stream",
     "text": [
      "<class 'pandas.core.frame.DataFrame'>\n",
      "RangeIndex: 5000 entries, 0 to 4999\n",
      "Data columns (total 11 columns):\n",
      " #   Column                Non-Null Count  Dtype  \n",
      "---  ------                --------------  -----  \n",
      " 0   Worldwide_Gross       5000 non-null   float64\n",
      " 1   Domestic_Gross        5000 non-null   float64\n",
      " 2   Domestic_Percentage   5000 non-null   float64\n",
      " 3   Foreign_Gross         5000 non-null   float64\n",
      " 4   Foreign_Percentage    5000 non-null   float64\n",
      " 5   Year                  5000 non-null   int64  \n",
      " 6   Rating                5000 non-null   float64\n",
      " 7   Vote_Count            5000 non-null   int32  \n",
      " 8   Original_Language     5000 non-null   int64  \n",
      " 9   Production_Countries  5000 non-null   int64  \n",
      " 10  Primary_Genre         5000 non-null   float64\n",
      "dtypes: float64(7), int32(1), int64(3)\n",
      "memory usage: 410.3 KB\n"
     ]
    }
   ],
   "source": [
    "# List of columns to drop\n",
    "columns_to_drop = [\"Rank\", \"Release Group\",\"Genres\"]\n",
    "\n",
    "# Drop the columns\n",
    "df = df.drop(columns=columns_to_drop)\n",
    "\n",
    "# Display the cleaned dataset's structure\n",
    "df.info()"
   ]
  },
  {
   "cell_type": "code",
   "execution_count": 100,
   "id": "91f294a1-5519-4586-9c07-f5b4419884c0",
   "metadata": {},
   "outputs": [
    {
     "ename": "KeyError",
     "evalue": "\"['Domestic_Gross', 'Domestic_Percentage', 'Foreign_Percentage', 'Original_Language', 'Primary_Genre'] not found in axis\"",
     "output_type": "error",
     "traceback": [
      "\u001b[1;31m---------------------------------------------------------------------------\u001b[0m",
      "\u001b[1;31mKeyError\u001b[0m                                  Traceback (most recent call last)",
      "Cell \u001b[1;32mIn[100], line 5\u001b[0m\n\u001b[0;32m      2\u001b[0m columns_to_drop \u001b[38;5;241m=\u001b[39m [\u001b[38;5;124m'\u001b[39m\u001b[38;5;124mDomestic_Gross\u001b[39m\u001b[38;5;124m'\u001b[39m,\u001b[38;5;124m'\u001b[39m\u001b[38;5;124mDomestic_Percentage\u001b[39m\u001b[38;5;124m'\u001b[39m,\u001b[38;5;124m'\u001b[39m\u001b[38;5;124mForeign_Percentage\u001b[39m\u001b[38;5;124m'\u001b[39m,\u001b[38;5;124m'\u001b[39m\u001b[38;5;124mOriginal_Language\u001b[39m\u001b[38;5;124m'\u001b[39m,\u001b[38;5;124m'\u001b[39m\u001b[38;5;124mPrimary_Genre\u001b[39m\u001b[38;5;124m'\u001b[39m,]\n\u001b[0;32m      4\u001b[0m \u001b[38;5;66;03m# Drop the columns\u001b[39;00m\n\u001b[1;32m----> 5\u001b[0m df \u001b[38;5;241m=\u001b[39m df\u001b[38;5;241m.\u001b[39mdrop(columns\u001b[38;5;241m=\u001b[39mcolumns_to_drop)\n",
      "File \u001b[1;32m~\\anaconda3\\Lib\\site-packages\\pandas\\core\\frame.py:5581\u001b[0m, in \u001b[0;36mDataFrame.drop\u001b[1;34m(self, labels, axis, index, columns, level, inplace, errors)\u001b[0m\n\u001b[0;32m   5433\u001b[0m \u001b[38;5;28;01mdef\u001b[39;00m \u001b[38;5;21mdrop\u001b[39m(\n\u001b[0;32m   5434\u001b[0m     \u001b[38;5;28mself\u001b[39m,\n\u001b[0;32m   5435\u001b[0m     labels: IndexLabel \u001b[38;5;241m|\u001b[39m \u001b[38;5;28;01mNone\u001b[39;00m \u001b[38;5;241m=\u001b[39m \u001b[38;5;28;01mNone\u001b[39;00m,\n\u001b[1;32m   (...)\u001b[0m\n\u001b[0;32m   5442\u001b[0m     errors: IgnoreRaise \u001b[38;5;241m=\u001b[39m \u001b[38;5;124m\"\u001b[39m\u001b[38;5;124mraise\u001b[39m\u001b[38;5;124m\"\u001b[39m,\n\u001b[0;32m   5443\u001b[0m ) \u001b[38;5;241m-\u001b[39m\u001b[38;5;241m>\u001b[39m DataFrame \u001b[38;5;241m|\u001b[39m \u001b[38;5;28;01mNone\u001b[39;00m:\n\u001b[0;32m   5444\u001b[0m \u001b[38;5;250m    \u001b[39m\u001b[38;5;124;03m\"\"\"\u001b[39;00m\n\u001b[0;32m   5445\u001b[0m \u001b[38;5;124;03m    Drop specified labels from rows or columns.\u001b[39;00m\n\u001b[0;32m   5446\u001b[0m \n\u001b[1;32m   (...)\u001b[0m\n\u001b[0;32m   5579\u001b[0m \u001b[38;5;124;03m            weight  1.0     0.8\u001b[39;00m\n\u001b[0;32m   5580\u001b[0m \u001b[38;5;124;03m    \"\"\"\u001b[39;00m\n\u001b[1;32m-> 5581\u001b[0m     \u001b[38;5;28;01mreturn\u001b[39;00m \u001b[38;5;28msuper\u001b[39m()\u001b[38;5;241m.\u001b[39mdrop(\n\u001b[0;32m   5582\u001b[0m         labels\u001b[38;5;241m=\u001b[39mlabels,\n\u001b[0;32m   5583\u001b[0m         axis\u001b[38;5;241m=\u001b[39maxis,\n\u001b[0;32m   5584\u001b[0m         index\u001b[38;5;241m=\u001b[39mindex,\n\u001b[0;32m   5585\u001b[0m         columns\u001b[38;5;241m=\u001b[39mcolumns,\n\u001b[0;32m   5586\u001b[0m         level\u001b[38;5;241m=\u001b[39mlevel,\n\u001b[0;32m   5587\u001b[0m         inplace\u001b[38;5;241m=\u001b[39minplace,\n\u001b[0;32m   5588\u001b[0m         errors\u001b[38;5;241m=\u001b[39merrors,\n\u001b[0;32m   5589\u001b[0m     )\n",
      "File \u001b[1;32m~\\anaconda3\\Lib\\site-packages\\pandas\\core\\generic.py:4788\u001b[0m, in \u001b[0;36mNDFrame.drop\u001b[1;34m(self, labels, axis, index, columns, level, inplace, errors)\u001b[0m\n\u001b[0;32m   4786\u001b[0m \u001b[38;5;28;01mfor\u001b[39;00m axis, labels \u001b[38;5;129;01min\u001b[39;00m axes\u001b[38;5;241m.\u001b[39mitems():\n\u001b[0;32m   4787\u001b[0m     \u001b[38;5;28;01mif\u001b[39;00m labels \u001b[38;5;129;01mis\u001b[39;00m \u001b[38;5;129;01mnot\u001b[39;00m \u001b[38;5;28;01mNone\u001b[39;00m:\n\u001b[1;32m-> 4788\u001b[0m         obj \u001b[38;5;241m=\u001b[39m obj\u001b[38;5;241m.\u001b[39m_drop_axis(labels, axis, level\u001b[38;5;241m=\u001b[39mlevel, errors\u001b[38;5;241m=\u001b[39merrors)\n\u001b[0;32m   4790\u001b[0m \u001b[38;5;28;01mif\u001b[39;00m inplace:\n\u001b[0;32m   4791\u001b[0m     \u001b[38;5;28mself\u001b[39m\u001b[38;5;241m.\u001b[39m_update_inplace(obj)\n",
      "File \u001b[1;32m~\\anaconda3\\Lib\\site-packages\\pandas\\core\\generic.py:4830\u001b[0m, in \u001b[0;36mNDFrame._drop_axis\u001b[1;34m(self, labels, axis, level, errors, only_slice)\u001b[0m\n\u001b[0;32m   4828\u001b[0m         new_axis \u001b[38;5;241m=\u001b[39m axis\u001b[38;5;241m.\u001b[39mdrop(labels, level\u001b[38;5;241m=\u001b[39mlevel, errors\u001b[38;5;241m=\u001b[39merrors)\n\u001b[0;32m   4829\u001b[0m     \u001b[38;5;28;01melse\u001b[39;00m:\n\u001b[1;32m-> 4830\u001b[0m         new_axis \u001b[38;5;241m=\u001b[39m axis\u001b[38;5;241m.\u001b[39mdrop(labels, errors\u001b[38;5;241m=\u001b[39merrors)\n\u001b[0;32m   4831\u001b[0m     indexer \u001b[38;5;241m=\u001b[39m axis\u001b[38;5;241m.\u001b[39mget_indexer(new_axis)\n\u001b[0;32m   4833\u001b[0m \u001b[38;5;66;03m# Case for non-unique axis\u001b[39;00m\n\u001b[0;32m   4834\u001b[0m \u001b[38;5;28;01melse\u001b[39;00m:\n",
      "File \u001b[1;32m~\\anaconda3\\Lib\\site-packages\\pandas\\core\\indexes\\base.py:7070\u001b[0m, in \u001b[0;36mIndex.drop\u001b[1;34m(self, labels, errors)\u001b[0m\n\u001b[0;32m   7068\u001b[0m \u001b[38;5;28;01mif\u001b[39;00m mask\u001b[38;5;241m.\u001b[39many():\n\u001b[0;32m   7069\u001b[0m     \u001b[38;5;28;01mif\u001b[39;00m errors \u001b[38;5;241m!=\u001b[39m \u001b[38;5;124m\"\u001b[39m\u001b[38;5;124mignore\u001b[39m\u001b[38;5;124m\"\u001b[39m:\n\u001b[1;32m-> 7070\u001b[0m         \u001b[38;5;28;01mraise\u001b[39;00m \u001b[38;5;167;01mKeyError\u001b[39;00m(\u001b[38;5;124mf\u001b[39m\u001b[38;5;124m\"\u001b[39m\u001b[38;5;132;01m{\u001b[39;00mlabels[mask]\u001b[38;5;241m.\u001b[39mtolist()\u001b[38;5;132;01m}\u001b[39;00m\u001b[38;5;124m not found in axis\u001b[39m\u001b[38;5;124m\"\u001b[39m)\n\u001b[0;32m   7071\u001b[0m     indexer \u001b[38;5;241m=\u001b[39m indexer[\u001b[38;5;241m~\u001b[39mmask]\n\u001b[0;32m   7072\u001b[0m \u001b[38;5;28;01mreturn\u001b[39;00m \u001b[38;5;28mself\u001b[39m\u001b[38;5;241m.\u001b[39mdelete(indexer)\n",
      "\u001b[1;31mKeyError\u001b[0m: \"['Domestic_Gross', 'Domestic_Percentage', 'Foreign_Percentage', 'Original_Language', 'Primary_Genre'] not found in axis\""
     ]
    }
   ],
   "source": [
    "# List of columns to drop\n",
    "columns_to_drop = ['Domestic_Gross','Domestic_Percentage','Foreign_Percentage','Original_Language','Primary_Genre',]\n",
    "\n",
    "# Drop the columns\n",
    "df = df.drop(columns=columns_to_drop)"
   ]
  },
  {
   "cell_type": "code",
   "execution_count": 102,
   "id": "a26fcbb6-3a46-4bd5-bbdf-696671764d37",
   "metadata": {},
   "outputs": [],
   "source": [
    "# List of columns to drop\n",
    "columns_to_drop = ['Foreign_Gross']\n",
    "\n",
    "# Drop the columns\n",
    "df = df.drop(columns=columns_to_drop)"
   ]
  },
  {
   "cell_type": "code",
   "execution_count": 104,
   "id": "484cc6c3-5ba6-4a16-b3a3-5490aa6149f6",
   "metadata": {},
   "outputs": [
    {
     "data": {
      "text/plain": [
       "Worldwide_Gross         float64\n",
       "Year                      int64\n",
       "Rating                  float64\n",
       "Vote_Count                int32\n",
       "Production_Countries      int64\n",
       "dtype: object"
      ]
     },
     "execution_count": 104,
     "metadata": {},
     "output_type": "execute_result"
    }
   ],
   "source": [
    "df.dtypes"
   ]
  },
  {
   "cell_type": "markdown",
   "id": "b27f5b46-c53b-4e75-94a3-cf49d7cb626e",
   "metadata": {},
   "source": [
    "### __Machine Learning__"
   ]
  },
  {
   "cell_type": "code",
   "execution_count": 106,
   "id": "ff173cb9-d602-4e54-9742-99fe6780edf5",
   "metadata": {},
   "outputs": [],
   "source": [
    "# Define features and target variable\n",
    "X = df.drop(columns=['Worldwide_Gross'])  # Features\n",
    "y = df['Worldwide_Gross']  # Target variable"
   ]
  },
  {
   "cell_type": "markdown",
   "id": "9edf16fc-06b1-43d2-84c0-abfba9dbeb45",
   "metadata": {},
   "source": [
    "__Linear Regression__"
   ]
  },
  {
   "cell_type": "code",
   "execution_count": 109,
   "id": "89c03ca5-fc3c-482e-bea5-0ec39103a4e9",
   "metadata": {},
   "outputs": [
    {
     "name": "stdout",
     "output_type": "stream",
     "text": [
      "Linear Regression Performance:\n",
      "MAE: 51291563.99\n",
      "RMSE: 80295680.17\n",
      "R² Score: 0.5943\n"
     ]
    }
   ],
   "source": [
    "from sklearn.linear_model import LinearRegression\n",
    "from sklearn.metrics import mean_absolute_error, mean_squared_error, r2_score\n",
    "import numpy as np\n",
    "\n",
    "# Split the data (assuming X and y are already defined and preprocessed)\n",
    "from sklearn.model_selection import train_test_split\n",
    "X_train, X_test, y_train, y_test = train_test_split(X, y, test_size=0.2, random_state=42)\n",
    "\n",
    "# Initialize and train the Linear Regression model\n",
    "lr_model = LinearRegression()\n",
    "lr_model.fit(X_train, y_train)\n",
    "\n",
    "# Predict on the test set\n",
    "y_pred_lr = lr_model.predict(X_test)\n",
    "\n",
    "# Evaluate the model\n",
    "mae_lr = mean_absolute_error(y_test, y_pred_lr)\n",
    "rmse_lr = np.sqrt(mean_squared_error(y_test, y_pred_lr))\n",
    "r2_lr = r2_score(y_test, y_pred_lr)\n",
    "\n",
    "# Print evaluation metrics\n",
    "print(\"Linear Regression Performance:\")\n",
    "print(f\"MAE: {mae_lr:.2f}\")\n",
    "print(f\"RMSE: {rmse_lr:.2f}\")\n",
    "print(f\"R² Score: {r2_lr:.4f}\")"
   ]
  },
  {
   "cell_type": "markdown",
   "id": "fbd6aa12-1a88-441e-8a73-f6482df67003",
   "metadata": {},
   "source": [
    "__Random Forest Regression__"
   ]
  },
  {
   "cell_type": "code",
   "execution_count": 112,
   "id": "0aca4c6e-64c5-4ebc-b6ce-2321d1b0ca75",
   "metadata": {},
   "outputs": [
    {
     "name": "stdout",
     "output_type": "stream",
     "text": [
      "R² Score: 0.6578\n",
      "RMSE: 73744759.39\n"
     ]
    }
   ],
   "source": [
    "from sklearn.model_selection import train_test_split\n",
    "from sklearn.ensemble import RandomForestRegressor\n",
    "from sklearn.metrics import r2_score, mean_squared_error\n",
    "import numpy as np\n",
    "\n",
    "# Split data\n",
    "X_train, X_test, y_train, y_test = train_test_split(X, y, test_size=0.2, random_state=42)\n",
    "\n",
    "# Train model\n",
    "rf_model = RandomForestRegressor(n_estimators=100, random_state=42)\n",
    "rf_model.fit(X_train, y_train)\n",
    "\n",
    "# Make predictions\n",
    "y_pred = rf_model.predict(X_test)\n",
    "\n",
    "# Evaluate performance\n",
    "r2 = r2_score(y_test, y_pred)\n",
    "rmse = np.sqrt(mean_squared_error(y_test, y_pred))\n",
    "\n",
    "print(f\"R² Score: {r2:.4f}\")\n",
    "print(f\"RMSE: {rmse:.2f}\")"
   ]
  },
  {
   "cell_type": "code",
   "execution_count": 114,
   "id": "56b19211-1f13-4c31-8e16-5f6746be215e",
   "metadata": {},
   "outputs": [
    {
     "name": "stdout",
     "output_type": "stream",
     "text": [
      "Train R²: 0.9349, Test R²: 0.6578\n"
     ]
    }
   ],
   "source": [
    "train_r2 = r2_score(y_train, rf_model.predict(X_train))\n",
    "test_r2 = r2_score(y_test, y_pred)\n",
    "print(f\"Train R²: {train_r2:.4f}, Test R²: {test_r2:.4f}\")"
   ]
  },
  {
   "cell_type": "markdown",
   "id": "2371bf44-3819-449a-9d21-29b22200d4f5",
   "metadata": {},
   "source": [
    "__Cross Validation__\n",
    "\n",
    "\n",
    "For Verifying whether the model overfit\n"
   ]
  },
  {
   "cell_type": "code",
   "execution_count": 117,
   "id": "a01ecbc9-8d54-45d3-beb5-6658c5da37cb",
   "metadata": {},
   "outputs": [
    {
     "name": "stdout",
     "output_type": "stream",
     "text": [
      "Cross-Validation R² Scores: [0.65789567 0.66086131 0.61086102 0.47464327 0.30599583]\n",
      "Average R² Score: 0.5420514173846127\n"
     ]
    }
   ],
   "source": [
    "from sklearn.model_selection import cross_val_score\n",
    "\n",
    "# Define model again to use in CV (no need to refit manually)\n",
    "from sklearn.ensemble import RandomForestRegressor\n",
    "\n",
    "rf_cv_model = RandomForestRegressor(n_estimators=100, max_depth=None, random_state=42)\n",
    "\n",
    "# 5-fold cross-validation using R²\n",
    "cv_scores = cross_val_score(rf_model, X, y, cv=5, scoring='r2')\n",
    "\n",
    "print(\"Cross-Validation R² Scores:\", cv_scores)\n",
    "print(\"Average R² Score:\", np.mean(cv_scores))"
   ]
  },
  {
   "cell_type": "markdown",
   "id": "e7b72086-f523-4cb7-8f67-5b536b03104c",
   "metadata": {},
   "source": [
    "__Residual Plot__"
   ]
  },
  {
   "cell_type": "code",
   "execution_count": 52,
   "id": "0d98fcb9-3dda-4a91-bb04-519c5bc079f0",
   "metadata": {},
   "outputs": [
    {
     "data": {
      "image/png": "[encoded data removed]",
      "text/plain": [
       "<Figure size 1000x600 with 1 Axes>"
      ]
     },
     "metadata": {},
     "output_type": "display_data"
    }
   ],
   "source": [
    "import matplotlib.pyplot as plt\n",
    "import seaborn as sns\n",
    "\n",
    "# Residuals\n",
    "residuals = y_test - y_pred  # use y_pred for Random Forest predictions\n",
    "\n",
    "plt.figure(figsize=(10, 6))\n",
    "sns.scatterplot(x=y_test, y=residuals)\n",
    "plt.axhline(0, color='red', linestyle='--')\n",
    "plt.title(\"Residuals vs Actual Revenue (Log Scale)\")\n",
    "plt.xlabel(\"Actual Revenue (log-transformed)\")\n",
    "plt.ylabel(\"Residuals\")\n",
    "plt.grid(True)\n",
    "plt.show()"
   ]
  },
  {
   "cell_type": "code",
   "execution_count": 53,
   "id": "fb3dc0af-1dbe-4c3d-ba94-c103c59b0dcb",
   "metadata": {},
   "outputs": [],
   "source": [
    "#def predict_revenue(model, year, vote_count, rating, genre):\n",
    "    # Convert rating from 'x/10' string to float if needed\n",
    "#    if isinstance(rating, str) and '/' in rating:\n",
    "#        rating = float(rating.split('/')[0])\n",
    "\n",
    "    # Prepare input with same columns used in training\n",
    "#    input_data = pd.DataFrame([{\n",
    "#        'Year': year,\n",
    "#        'Vote_Count': vote_count,\n",
    "#        'Rating': rating,\n",
    "#        'Primary_Genre': genre\n",
    "#    }])\n",
    "\n",
    "    # Predict using the trained model\n",
    "#    prediction = model.predict(input_data)[0]\n",
    "#   return round(prediction, 2)"
   ]
  },
  {
   "cell_type": "code",
   "execution_count": 54,
   "id": "a4e78d67-3a22-41fb-88f6-d489fa953d7e",
   "metadata": {},
   "outputs": [],
   "source": [
    "#predicted = predict_revenue(\n",
    "#    rf_model,\n",
    "#    year=2025,\n",
    "#    vote_count=6800,\n",
    "#    rating=7.2,\n",
    "#    genre='Action'\n",
    "#)\n",
    "\n",
    "#print(f\"Predicted Worldwide Revenue: ${predicted}\")"
   ]
  },
  {
   "cell_type": "code",
   "execution_count": 55,
   "id": "4df6947d-618b-4030-8cbf-9b71eac8daf0",
   "metadata": {},
   "outputs": [],
   "source": [
    "# from sklearn.model_selection import train_test_split\n",
    "# from sklearn.preprocessing import LabelEncoder\n",
    "# from sklearn.linear_model import LogisticRegression\n",
    "# from sklearn.metrics import accuracy_score, confusion_matrix, classification_report\n",
    "# from sklearn.impute import SimpleImputer\n",
    "# import joblib\n",
    "# import pandas as pd\n",
    "\n",
    "# # Save model and encoders\n",
    "# joblib.dump(rf_model, 'model.pkl')"
   ]
  },
  {
   "cell_type": "code",
   "execution_count": 119,
   "id": "378d4ba7-d2d0-4baa-b2a9-b9c7732f657d",
   "metadata": {},
   "outputs": [],
   "source": [
    "import pickle\n",
    "\n",
    "# Suppose this is your trained model\n",
    "from sklearn.ensemble import RandomForestRegressor\n",
    "\n",
    "model = RandomForestRegressor()\n",
    "model.fit(X, y)\n",
    "\n",
    "# ✅ Save the model object (not prediction results!)\n",
    "pickle.dump(model, open('Box_Office_Revenue_Prediciton.pkl', 'wb'))"
   ]
  },
  {
   "cell_type": "code",
   "execution_count": null,
   "id": "f0509503-7f44-4458-acf1-1be89318bdae",
   "metadata": {},
   "outputs": [],
   "source": []
  }
 ],
 "metadata": {
  "kernelspec": {
   "display_name": "Python 3 (ipykernel)",
   "language": "python",
   "name": "python3"
  },
  "language_info": {
   "codemirror_mode": {
    "name": "ipython",
    "version": 3
   },
   "file_extension": ".py",
   "mimetype": "text/x-python",
   "name": "python",
   "nbconvert_exporter": "python",
   "pygments_lexer": "ipython3",
   "version": "3.12.4"
  }
 },
 "nbformat": 4,
 "nbformat_minor": 5
}
